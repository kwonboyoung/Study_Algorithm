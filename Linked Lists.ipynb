{
 "cells": [
  {
   "cell_type": "markdown",
   "metadata": {},
   "source": [
    "# Get Node Value"
   ]
  },
  {
   "cell_type": "code",
   "execution_count": 1,
   "metadata": {
    "collapsed": true
   },
   "outputs": [],
   "source": [
    "def GetNode(head, position):\n",
    "    node = head\n",
    "    len = 0\n",
    "    while(head):\n",
    "        if(len > position):\n",
    "            node = node.next\n",
    "        len += 1\n",
    "        head = head.next\n",
    "    return node.data"
   ]
  },
  {
   "cell_type": "markdown",
   "metadata": {},
   "source": [
    "# Insert a node at the head of a linked list"
   ]
  },
  {
   "cell_type": "code",
   "execution_count": 2,
   "metadata": {
    "collapsed": true
   },
   "outputs": [],
   "source": [
    "def Insert(head, data):\n",
    "    node=Node(data,head)\n",
    "    return node"
   ]
  },
  {
   "cell_type": "markdown",
   "metadata": {},
   "source": [
    "# Compare two linked lists"
   ]
  },
  {
   "cell_type": "code",
   "execution_count": 3,
   "metadata": {
    "collapsed": true
   },
   "outputs": [],
   "source": [
    "def CompareLists(headA, headB):\n",
    "    if headA is None or headB is None:\n",
    "        return 0\n",
    "    else:\n",
    "        flag = 0 \n",
    "        while headA is not None and headB is not None:\n",
    "            if headA.data != headB.data:\n",
    "                flag = 2\n",
    "            headA= headA.next\n",
    "            headB=headB.next\n",
    "        if flag == 2:\n",
    "            return 0\n",
    "        else:\n",
    "            if headA is not None or headB is not None:\n",
    "                return 0\n",
    "            else:\n",
    "                return 1"
   ]
  }
 ],
 "metadata": {
  "kernelspec": {
   "display_name": "Python 3",
   "language": "python",
   "name": "python3"
  },
  "language_info": {
   "codemirror_mode": {
    "name": "ipython",
    "version": 3
   },
   "file_extension": ".py",
   "mimetype": "text/x-python",
   "name": "python",
   "nbconvert_exporter": "python",
   "pygments_lexer": "ipython3",
   "version": "3.6.0"
  }
 },
 "nbformat": 4,
 "nbformat_minor": 2
}
